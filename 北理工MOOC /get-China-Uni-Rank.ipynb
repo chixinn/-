{
 "metadata": {
  "language_info": {
   "codemirror_mode": {
    "name": "ipython",
    "version": 3
   },
   "file_extension": ".py",
   "mimetype": "text/x-python",
   "name": "python",
   "nbconvert_exporter": "python",
   "pygments_lexer": "ipython3",
   "version": "3.8.6-final"
  },
  "orig_nbformat": 2,
  "kernelspec": {
   "name": "Python 3.8.6 64-bit",
   "display_name": "Python 3.8.6 64-bit",
   "metadata": {
    "interpreter": {
     "hash": "1ee38ef4a5a9feb55287fd749643f13d043cb0a7addaab2a9c224cbe137c0062"
    }
   }
  }
 },
 "nbformat": 4,
 "nbformat_minor": 2,
 "cells": [
  {
   "cell_type": "code",
   "execution_count": 1,
   "metadata": {},
   "outputs": [],
   "source": [
    "import requests\n",
    "from bs4 import BeautifulSoup\n",
    "import bs4\n",
    "import re"
   ]
  },
  {
   "cell_type": "code",
   "execution_count": 2,
   "metadata": {},
   "outputs": [],
   "source": [
    "# 编程前首先定义函数接口"
   ]
  },
  {
   "cell_type": "code",
   "execution_count": 3,
   "metadata": {},
   "outputs": [],
   "source": [
    "def getHTMLText(url):\n",
    "    try:\n",
    "        r=requests.get(url,timeout=30)\n",
    "        r.raise_for_status()\n",
    "        r.encoding=r.apparent_encoding\n",
    "        #print(r.text)\n",
    "        return r.text\n",
    "    except:\n",
    "        return \"\""
   ]
  },
  {
   "cell_type": "code",
   "execution_count": 4,
   "metadata": {},
   "outputs": [],
   "source": [
    "def fillUnivList(ulist,html):\n",
    "    soup=BeautifulSoup(html,\"html.parser\")\n",
    "    #通过分析网页源代码进行html解析,先直观判断一下源代码的标签结构\n",
    "    for tr in soup.find('tbody').children:\n",
    "        if isinstance(tr,bs4.element.Tag):#防止字符串也变成儿子\n",
    "            tds=tr('td')#我们需要的td标签加入到列表中\n",
    "            ulist.append([tds[0],tds[1],tds[3]])\n",
    "    pass"
   ]
  },
  {
   "cell_type": "code",
   "execution_count": 5,
   "metadata": {},
   "outputs": [],
   "source": [
    "#python倾向于使用.format方法进行格式化输出\n",
    "def printUnivList(ulist,num):\n",
    "    #print(\"{:^10}\\t{:^6}\\t{:^10}\").format(\"排名\",\"学校\",\"分数\")\n",
    "    print(\"{:^10}\\t{:^6}\\t{:^15}\".format(\"排名\",\"学校名称\",\"总分\"))\n",
    "    for i in range(num):\n",
    "        u=ulist[i]\n",
    "        #print(type(u[0]))\n",
    "        #print(\"{:^10}\\t{:^6}\\t{:^15}\".format(u[0],u[1],u[2]))\n",
    "        print(u[1])\n",
    "   "
   ]
  },
  {
   "cell_type": "code",
   "execution_count": 6,
   "metadata": {},
   "outputs": [],
   "source": [
    "#主函数约定使用\n",
    "def main():\n",
    "    uinfo=[]\n",
    "    url=\"https://www.shanghairanking.cn/rankings/bcur/2020\"\n",
    "    html=getHTMLText(url)\n",
    "    fillUnivList(uinfo,html)\n",
    "    printUnivList(uinfo,10)"
   ]
  },
  {
   "cell_type": "code",
   "execution_count": 7,
   "metadata": {},
   "outputs": [
    {
     "output_type": "stream",
     "name": "stdout",
     "text": [
      "    排名    \t 学校名称 \t      总分       \n<td class=\"align-left\" data-v-45ac69d8=\"\"><a data-v-45ac69d8=\"\" href=\"/institution/tsinghua-university\">清华大学</a> <p data-v-45ac69d8=\"\" style=\"display:none\"></p></td>\n<td class=\"align-left\" data-v-45ac69d8=\"\"><a data-v-45ac69d8=\"\" href=\"/institution/peking-university\">北京大学</a> <p data-v-45ac69d8=\"\" style=\"display:none\"></p></td>\n<td class=\"align-left\" data-v-45ac69d8=\"\"><a data-v-45ac69d8=\"\" href=\"/institution/zhejiang-university\">浙江大学</a> <p data-v-45ac69d8=\"\" style=\"display:none\"></p></td>\n<td class=\"align-left\" data-v-45ac69d8=\"\"><a data-v-45ac69d8=\"\" href=\"/institution/shanghai-jiao-tong-university\">上海交通大学</a> <p data-v-45ac69d8=\"\" style=\"display:none\"></p></td>\n<td class=\"align-left\" data-v-45ac69d8=\"\"><a data-v-45ac69d8=\"\" href=\"/institution/nanjing-university\">南京大学</a> <p data-v-45ac69d8=\"\" style=\"display:none\"></p></td>\n<td class=\"align-left\" data-v-45ac69d8=\"\"><a data-v-45ac69d8=\"\" href=\"/institution/fudan-university\">复旦大学</a> <p data-v-45ac69d8=\"\" style=\"display:none\"></p></td>\n<td class=\"align-left\" data-v-45ac69d8=\"\"><a data-v-45ac69d8=\"\" href=\"/institution/university-of-science-and-technology-of-china\">中国科学技术大学</a> <p data-v-45ac69d8=\"\" style=\"display:none\"></p></td>\n<td class=\"align-left\" data-v-45ac69d8=\"\"><a data-v-45ac69d8=\"\" href=\"/institution/huazhong-university-of-science-and-technology\">华中科技大学</a> <p data-v-45ac69d8=\"\" style=\"display:none\"></p></td>\n<td class=\"align-left\" data-v-45ac69d8=\"\"><a data-v-45ac69d8=\"\" href=\"/institution/wuhan-university\">武汉大学</a> <p data-v-45ac69d8=\"\" style=\"display:none\"></p></td>\n<td class=\"align-left\" data-v-45ac69d8=\"\"><a data-v-45ac69d8=\"\" href=\"/institution/sun-yat-sen-university\">中山大学</a> <p data-v-45ac69d8=\"\" style=\"display:none\"></p></td>\n"
     ]
    }
   ],
   "source": [
    "main()"
   ]
  }
 ]
}