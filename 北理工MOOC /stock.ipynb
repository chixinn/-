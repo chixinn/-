{
 "metadata": {
  "language_info": {
   "codemirror_mode": {
    "name": "ipython",
    "version": 3
   },
   "file_extension": ".py",
   "mimetype": "text/x-python",
   "name": "python",
   "nbconvert_exporter": "python",
   "pygments_lexer": "ipython3",
   "version": 3
  },
  "orig_nbformat": 2
 },
 "nbformat": 4,
 "nbformat_minor": 2,
 "cells": [
  {
   "source": [
    "# 股票数据爬取\n",
    "## 爬取哪一类股票数据网站\n",
    "将股票数据静态存在于html页面，非js代码生成\n",
    "## 选取方法：\n",
    "浏览器F12,源代码查看\n",
    "## 心态\n",
    "多个信息源尝试，not confined.\n"
   ],
   "cell_type": "markdown",
   "metadata": {}
  },
  {
   "source": [
    "## 程序的结构设计\n",
    "- 从东方财富网获取股票列表\n",
    "- 根据股票列表逐个到百度股票获取个股信息\n",
    "- 将结果存储到文件"
   ],
   "cell_type": "markdown",
   "metadata": {}
  }
 ]
}