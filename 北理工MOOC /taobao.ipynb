{
 "metadata": {
  "language_info": {
   "codemirror_mode": {
    "name": "ipython",
    "version": 3
   },
   "file_extension": ".py",
   "mimetype": "text/x-python",
   "name": "python",
   "nbconvert_exporter": "python",
   "pygments_lexer": "ipython3",
   "version": "3.8.6-final"
  },
  "orig_nbformat": 2,
  "kernelspec": {
   "name": "python3",
   "display_name": "Python 3"
  }
 },
 "nbformat": 4,
 "nbformat_minor": 2,
 "cells": [
  {
   "source": [
    "# 我自己写的打不开！！！\n",
    "2020年11月18日"
   ],
   "cell_type": "markdown",
   "metadata": {}
  },
  {
   "source": [
    "### 淘宝商品定向比价爬虫\n",
    "## 功能描述：\n",
    "- 目标：获取淘宝搜索页面的信息，提取其中的商品名称和价格。\n",
    "- 理解： 淘宝的搜索借口与翻页的处理\n",
    "\n"
   ],
   "cell_type": "markdown",
   "metadata": {}
  },
  {
   "source": [
    "# 首先查看提交书包关键词：浏览器返回的信息\n",
    "- https://s.taobao.com/search?q=%E4%B9%A6%E5%8C%85&imgfile=&commend=all&ssid=s5-e&search_type=item&sourceId=tb.index&spm=a21bo.2017.201856-taobao-item.1&ie=utf8&initiative_id=tbindexz_20170306\n",
    "## 第二页与后续页\n",
    "-  https://s.taobao.com/search?q=%E4%B9%A6%E5%8C%85&imgfile=&commend=all&ssid=s5-e&search_type=item&sourceId=tb.index&spm=a21bo.2017.201856-taobao-item.1&ie=utf8&initiative_id=tbindexz_20170306&bcoffset=3&ntoffset=3&p4ppushleft=1%2C48&s=44\n",
    "## 管局观察s=44/s=88变量s表示起始商品的编号\n",
    "- https://s.taobao.com/search?q=%E4%B9%A6%E5%8C%85&imgfile=&commend=all&ssid=s5-e&search_type=item&sourceId=tb.index&spm=a21bo.2017.201856-taobao-item.1&ie=utf8&initiative_id=tbindexz_20170306&bcoffset=0&ntoffset=6&p4ppushleft=1%2C48&s=88\n",
    "通过观察确定想要提交的相关url接口\n"
   ],
   "cell_type": "markdown",
   "metadata": {}
  },
  {
   "source": [
    "# 程序的结构设计\n",
    "- 提交商品搜索请求，循环获取页面\n",
    "- 对于每个页面，提取商品名称和价格信息\n",
    "- 将信息输出到屏幕上"
   ],
   "cell_type": "markdown",
   "metadata": {}
  },
  {
   "cell_type": "code",
   "execution_count": 7,
   "metadata": {},
   "outputs": [],
   "source": [
    "import requests\n",
    "import re"
   ]
  },
  {
   "cell_type": "code",
   "execution_count": 8,
   "metadata": {},
   "outputs": [],
   "source": [
    "#获得页面函数\n",
    "def getHTMLText(url):\n",
    "    try:\n",
    "        header = {\n",
    "            'authority': 's.taobao.com',\n",
    "            'cache-control': 'max-age=0',\n",
    "            'upgrade-insecure-requests': '1',\n",
    "            'user-agent': 'Mozilla/5.0 (Windows NT 10.0; Win64; x64) AppleWebKit/537.36 (KHTML, like Gecko) Chrome/86.0.4240.111 Safari/537.36 Edg/86.0.622.61',\n",
    "            'accept': 'text/html,application/xhtml+xml,application/xml;q=0.9,image/webp,image/apng,*/*;q=0.8,application/signed-exchange;v=b3;q=0.9',\n",
    "            'sec-fetch-site': 'same-origin',\n",
    "            'sec-fetch-mode': 'navigate',\n",
    "            'sec-fetch-user': '?1',\n",
    "            'sec-fetch-dest': 'document',\n",
    "            'referer': 'https://www.taobao.com/',\n",
    "            'accept-language': 'zh-CN,zh;q=0.9,en;q=0.8,en-GB;q=0.7,en-US;q=0.6',\n",
    "            'cookie': 't=45617de446470fd44aee6d085f2d9e18; cna=SwSKFeQJLyYCATsqJmaw9KmK; miid=488275361906276349; tg=0; _m_h5_tk=7e994d481264fc9b7909a2fda08a7f77_1604587354537; _m_h5_tk_enc=dd8e40d0dd3512737c7a628d7ca28d87; v=0; _tb_token_=e3e5e7fbb0551; enc=d6kXYOkMlGO4Vpc3fpc0k15%2BptSme%2Fhs4qGftdmvi0gB595cZ8lCtM4ODRPLW8NsrIFzT1l8rh%2Fw974tqE3%2BKA%3D%3D; alitrackid=www.taobao.com; lastalitrackid=www.taobao.com; cookie2=14809c047547fa2b6897acb65a316e0f; hng=CN%7Czh-CN%7CCNY%7C156; xlly_s=1; thw=cn; _samesite_flag_=true; JSESSIONID=EA7B34945DCBBAC8990AED7A7D51BFFC; isg=BAsLXFa90HFmcQ6XrwKaebexmq_1oB8iJCKJQn0IP8oUnCn-BXX8cpZ9c5xy6Xca; l=eBj929xIqLsfyQIdBO5aourza77tzIRbzmFzaNbMiInca1uhtn6hnNQVmWH9SdtxgtCecetyM85CqdnprdadNxDDBexrCyCurxvO.; tfstk=cDaPBQx4raQrbrgCX4geVdyLTxiRaQ435ghKqkJ3LEs2KgqsQs4kpj4DB8eeH-nl.',\n",
    "        }#由于淘宝网站的改进，现在要添加headers信息即可正确爬取\n",
    "        r=requests.get(url,timeout=30)\n",
    "        r.raise_for_status()\n",
    "        r.encoding=r.apparent_encoding\n",
    "        return r.text\n",
    "    except:\n",
    "        return \"\""
   ]
  },
  {
   "cell_type": "code",
   "execution_count": 9,
   "metadata": {},
   "outputs": [],
   "source": [
    "# 这个时候需要查看网页source code\n",
    "# view_title:商品名称由此键值对标识\n",
    "# view_price:商品价格由此键值对标识\n",
    "# 所以只需要在获得的文本中检索到这两个字段再提取我们想要的信息即可\n",
    "# \"view_price\":\"198.00\"\n",
    "#对每一个获得页面进行解析\n",
    "def parsePage(ilt,html):\n",
    "    try:\n",
    "        plt=re.findall(r'\\\"view_price\\\"\\:\\\"[\\d\\.]*\\\"',html)#以lt的编程习惯表示它是列表类型\n",
    "        print(plt)\n",
    "        #正则表达式可太神奇了\n",
    "        #只搜索，而不是使用bs4库解析\n",
    "        tlt=re.findall(r'\"raw_title\\\"\\:\\\".*?\\\"',html)\n",
    "        for i in range(len(plt)):\n",
    "            price=eval(plt[i].split(\":\")[1])#eval去掉字符串最外层的双引号/单引号\n",
    "    \n",
    "            title=eval(tlt[i].split(\":\")[1])\n",
    "            ilt.append([price,title])\n",
    "    except:\n",
    "        print(\"\")#无论什么异常都可以使程序不会因为异常而退出 try/except\n",
    "\n",
    "        \n"
   ]
  },
  {
   "cell_type": "code",
   "execution_count": 10,
   "metadata": {},
   "outputs": [],
   "source": [
    "def printGoodsList(ilt):\n",
    "    tplt=\"{:4}\\t{:8}\\t{:16}\"\n",
    "    print(tplt.format('序号','价格','商品名称'))\n",
    "    count=0#输出信息计时器\n",
    "    for g in ilt:\n",
    "        count=count+1\n",
    "        print(tplt.format(count,g[0],g[1]))\n",
    "        "
   ]
  },
  {
   "cell_type": "code",
   "execution_count": 11,
   "metadata": {},
   "outputs": [],
   "source": [
    "def main():\n",
    "    goods='书包'#商品使用书包做搜索关键词\n",
    "    #设定向下一页爬取的深度\n",
    "    depth=2\n",
    "    start_url='https://s.taobao.com/search?q='+goods#接口API\n",
    "    infoList=[]#整个输出结果\n",
    "    for i in range(depth):\n",
    "        try:\n",
    "            url=start_url+'&s='+str(44*i)#每一个页面的url链接的设计\n",
    "            # 44*i指第一个页面/第二个页面的页面的起始 是44的倍数\n",
    "            html=getHTMLText(url)\n",
    "            parsePage(infoList,html)#处理每一个页面的解析过程\n",
    "        except:\n",
    "            continue\n",
    "    printGoodsList(infoList)\n",
    "\n"
   ]
  },
  {
   "cell_type": "code",
   "execution_count": 12,
   "metadata": {},
   "outputs": [
    {
     "output_type": "stream",
     "name": "stdout",
     "text": [
      "[]\n",
      "[]\n",
      "序号  \t价格      \t商品名称            \n"
     ]
    }
   ],
   "source": [
    "main()"
   ]
  }
 ]
}